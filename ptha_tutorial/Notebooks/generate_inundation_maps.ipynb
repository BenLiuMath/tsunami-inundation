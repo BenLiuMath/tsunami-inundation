{
 "cells": [
  {
   "cell_type": "markdown",
   "metadata": {},
   "source": [
    "## Generate inundation maps for various probabilities\n",
    "Given a set of probabilities and events, this notebook computes the corresponding inundation maps and outputs them to text files in a format javascript can use.\n",
    "\n",
    "This script recycles lots of code from [Make_Hazard_Curves_and_Maps.ipynb](Make_Hazard_Curves_and_Maps.ipynb).\n",
    "\n",
    "### Import libraries needed to run notebook"
   ]
  },
  {
   "cell_type": "code",
   "execution_count": 8,
   "metadata": {
    "collapsed": false
   },
   "outputs": [
    {
     "name": "stdout",
     "output_type": "stream",
     "text": [
      "Populating the interactive namespace from numpy and matplotlib\n"
     ]
    }
   ],
   "source": [
    "%pylab inline\n",
    "from __future__ import print_function\n",
    "from ptha_paths import data_dir, events_dir, js_data_dir\n",
    "import sys, os"
   ]
  },
  {
   "cell_type": "markdown",
   "metadata": {},
   "source": [
    "### Set parameters"
   ]
  },
  {
   "cell_type": "code",
   "execution_count": 29,
   "metadata": {
    "collapsed": true
   },
   "outputs": [],
   "source": [
    "# The probabilities for which we want to generate inundation maps\n",
    "probabilities = [1./50, 1./100, 1./200, 1./500, 1./1000, 1./5000, 1./10000]\n",
    "\n",
    "# A dictionary of sets of events to consider\n",
    "meta_events         = {}\n",
    "meta_events['all']  = ['AASZa', 'AASZb', 'AASZc', 'AASZd', 'CSZa', 'CSZb', 'CSZc', 'CSZd', 'CSZe', \\\n",
    "                       'CSZf', 'KmSZa', 'KrSZa', 'SChSZa', 'TOHa']\n",
    "meta_events['near'] = ['CSZa', 'CSZb', 'CSZc', 'CSZd', 'CSZe', 'CSZf']\n",
    "meta_events['far']  = ['AASZa', 'AASZb', 'AASZc', 'AASZd', 'KmSZa', 'KrSZa', 'SChSZa', 'TOHa']\n",
    "\n",
    "# Specify the range of exceedance values in which we are interested (in meters).\n",
    "# This determines the resolution and range of values in the inundation maps: \n",
    "# their values will be in the set linspace(zeta_a,zeta_b,n_zeta).\n",
    "zeta_a = 0\n",
    "zeta_b = 12\n",
    "n_zeta = 121\n",
    "zeta   = linspace(zeta_a,zeta_b,n_zeta)\n",
    "\n",
    "# Resolution of the data\n",
    "nx = 250\n",
    "ny = 250\n",
    "\n",
    "# Name of the file where we will output all the inundation maps\n",
    "out_filename = 'inundation_maps.js'\n",
    "\n",
    "# Names of some javascript variables we will output\n",
    "p_inv_name     = 'pInv'\n",
    "maps_prefix    = \"eta_ps_\""
   ]
  },
  {
   "cell_type": "markdown",
   "metadata": {},
   "source": [
    "### Some information on the events\n",
    "The naming convention is the name of a subduction zone, followed by an event number, followed by a realization number, but for our purposes we will think of these as independent events.   The subduction zones represented are:\n",
    "- AASZ: Alaska-Aleutian\n",
    "- CSZ: Cascadia\n",
    "- KmSZ: Kamchatka\n",
    "- KrSZ: Kurils\n",
    "- SChSZ: Southern Chile\n",
    "- TOH: Japan / Tohoku\n",
    "\n",
    "The inundation patterns shown above were computed as part of a project to develop new techniques for probabilistic tsunami hazard assessment (PTHA), and are reprinted from the report \n",
    "\n",
    "- *Probabilistic Tsunami Hazard Assessment (PTHA) for Crescent City, CA.*, by Frank I. Gonzalez, Randall J. LeVeque, Loyce M. Adams, Chris Goldfinger, George R. Priest, and Kelin Wang, <http://hdl.handle.net/1773/25916>\n",
    "\n",
    "They were computed by running the [GeoClaw](http://www.geoclaw.org) tsunami model with the given earthquake source and then monitoring the maximum inundation depth observed at each point on shore over the course of the entire simulation.  (Actually on a fine grid of points covering the region shown above, with horizontal resolution of 1/3 arcsecond, about 10 meters in latitude and 7 meters in longitude)."
   ]
  },
  {
   "cell_type": "markdown",
   "metadata": {},
   "source": [
    "### Set the annual probability for each event\n",
    "We create a dictionary storing the probabilities of each event. These were given to us from Randy. We did not come up with them ourselves."
   ]
  },
  {
   "cell_type": "code",
   "execution_count": 14,
   "metadata": {
    "collapsed": true
   },
   "outputs": [],
   "source": [
    "event_prob           = {}\n",
    "event_prob['AASZa']  = 1./394.\n",
    "event_prob['AASZb']  = 1./750.\n",
    "event_prob['AASZc']  = 1./563.\n",
    "event_prob['AASZd']  = 1./324.\n",
    "event_prob['CSZa']   = 1./250. * .0125\n",
    "event_prob['CSZb']   = 1./250. * .0125\n",
    "event_prob['CSZc']   = 1./250. * .0750\n",
    "event_prob['CSZd']   = 1./250. * .5000\n",
    "event_prob['CSZe']   = 1./250. * .1750\n",
    "event_prob['CSZf']   = 1./250. * .2250\n",
    "event_prob['KmSZa']  = 1./50.\n",
    "event_prob['KrSZa']  = 1./167.\n",
    "event_prob['SChSZa'] = 1./300.\n",
    "event_prob['TOHa']   = 1./103."
   ]
  },
  {
   "cell_type": "markdown",
   "metadata": {},
   "source": [
    "### Define a function to combine two events"
   ]
  },
  {
   "cell_type": "code",
   "execution_count": 15,
   "metadata": {
    "collapsed": true
   },
   "outputs": [],
   "source": [
    "def combine_prob(p1,p2):\n",
    "    \"\"\"Returns the probability that event 1 or 2 happens\"\"\"\n",
    "    return 1. - (1 - p1) * (1 - p2)"
   ]
  },
  {
   "cell_type": "markdown",
   "metadata": {},
   "source": [
    "### Create a function that computes inundation for a given probability\n",
    "A more commonly used map is obtained by fixing a probability (e.g. $p = 0.01$ for a \"100-year\" flood map) and plotting the maximum depth expected with this annual probability.   \n",
    "\n",
    "This requires determining, for each grid point `(i,j)`, the largest value of `k` for which `exceed_prob[k]`  $\\geq p$. Then the value `zeta[k]` is the largest exceedance value for which the probability is at least $p$.\n",
    "\n",
    "Recall that `zeta` is defined to be maximum depth of inundation on shore, or maximum height above MHW offshore."
   ]
  },
  {
   "cell_type": "code",
   "execution_count": 16,
   "metadata": {
    "collapsed": true
   },
   "outputs": [],
   "source": [
    "def compute_zeta(p,exceed_prob):\n",
    "\n",
    "    # create boolean array K with K[i,j,k] == True only where exceed_prob[i,j,k] > p:\n",
    "    K = exceed_prob > p\n",
    "\n",
    "    K[:,:,0] = True\n",
    "    zeta_p = zeros((nx,ny))\n",
    "    for i in xrange(nx):\n",
    "        for j in xrange(ny):\n",
    "            zeta_p[i,j] = zeta[K[i,j,:]][-1]\n",
    "    return zeta_p"
   ]
  },
  {
   "cell_type": "markdown",
   "metadata": {},
   "source": [
    "### Define a function for outputting lists in a javascript-friendly format\n",
    "\n",
    "The main thing this function accomplishes is writing the entries of a list `out_list` to a file object `file_obj` with commas separating each item. For example, `l=[0,1,2,3,4,5]` would be written as `0,1,2,3,4,5`."
   ]
  },
  {
   "cell_type": "code",
   "execution_count": 17,
   "metadata": {
    "collapsed": true
   },
   "outputs": [],
   "source": [
    "def write_list(file_obj, out_list):\n",
    "    first_flag = True\n",
    "    for entry in out_list:\n",
    "        if first_flag:\n",
    "            file_obj.write(str(entry))\n",
    "            first_flag = False\n",
    "        else:\n",
    "            file_obj.write(',' + str(entry))"
   ]
  },
  {
   "cell_type": "markdown",
   "metadata": {},
   "source": [
    "### Define a function for outputting javascript array variables\n",
    "\n",
    "This function writes a python array to a file as a javascript array variable. For example, `write_js_array_variable(f,[0,1,2,3],\"seq\")` adds the following line to the file object `f`: `const seq = [0,1,2,3]`. That is, it defines a javascript array called `seq` containing the values of the second argument."
   ]
  },
  {
   "cell_type": "code",
   "execution_count": 21,
   "metadata": {
    "collapsed": true
   },
   "outputs": [],
   "source": [
    "def write_js_array_variable(file_obj, out_list, var_name):\n",
    "    file_obj.write(\"var %s = [\" %(var_name))\n",
    "    write_list(file_obj,out_list)\n",
    "    file_obj.write(\"];\\n\")"
   ]
  },
  {
   "cell_type": "markdown",
   "metadata": {},
   "source": [
    "### Form and save inundation maps"
   ]
  },
  {
   "cell_type": "code",
   "execution_count": 31,
   "metadata": {
    "collapsed": false,
    "scrolled": true
   },
   "outputs": [
    {
     "name": "stdout",
     "output_type": "stream",
     "text": [
      "Done computing inundation map for far events.\n",
      "Done computing inundation map for all events.\n",
      "Done computing inundation map for near events.\n"
     ]
    }
   ],
   "source": [
    "# Get location of file where we'll output the results\n",
    "out_file = os.path.join(js_data_dir,out_filename)\n",
    "\n",
    "# Loop over the meta events\n",
    "first_event = True\n",
    "for meta_event, events in meta_events.iteritems():\n",
    "    \n",
    "    # Compute the combined probability of exceeding each exceedance value\n",
    "    exceed_prob = zeros((nx,ny,n_zeta))\n",
    "    \n",
    "    # Loop over all events and update exceed_prob at each grid point by combining\n",
    "    # current value with the probability Pk of this event:\n",
    "\n",
    "    for event in events:\n",
    "        event_dir = os.path.join(events_dir, event)\n",
    "        hmax_file = os.path.join(event_dir, 'h_eta_small.npy')\n",
    "        hmax      = load(hmax_file)\n",
    "        Hmax      = hmax.reshape((nx,ny),order='F')\n",
    "        for k in xrange(n_zeta):\n",
    "            Pk = exceed_prob[:,:,k]  # probabilities at all points for one exceedance value zeta_k\n",
    "            exceed_prob[:,:,k] = where(Hmax > zeta[k], combine_prob(event_prob[event],Pk), Pk)\n",
    "    \n",
    "    # Get the inundation array associated with each probability and write to out_file\n",
    "    for probability in probabilities:\n",
    "        # Get the inundation array\n",
    "        inundation_array = compute_zeta(probability,exceed_prob)\n",
    "        \n",
    "        # Write to a variable in a text file\n",
    "        var_name = \"%s_eta_pInv%d\" %(meta_event, int(1./probability))\n",
    "        header = \"var %s = {\\\"width\\\":250,\\\"height\\\":250,\\\"values\\\":[\" %(var_name)\n",
    "        footer = \"]};\\n\"\n",
    "        \n",
    "        # Overwrite old file\n",
    "        if first_event:\n",
    "            with open(out_file,'w') as f:\n",
    "                f.write(header)\n",
    "                write_list(f,inundation_array.ravel())\n",
    "                f.write(footer)\n",
    "#                 write_js_array_variable(f,inundation_array.ravel(),var_name)\n",
    "                first_event = False\n",
    "        else:\n",
    "            with open(out_file,'a') as f:\n",
    "                f.write(header)\n",
    "                write_list(f,inundation_array.ravel())\n",
    "                f.write(footer)\n",
    "#                 write_js_array_variable(f,inundation_array.ravel(),var_name)\n",
    "        \n",
    "#         with open(out_file,'w') as f:\n",
    "#             f.write(header)\n",
    "#             first_flag = True\n",
    "#             for entry in inundation_array.ravel():\n",
    "#                 if first_flag:\n",
    "#                     f.write(str(entry))\n",
    "#                     first_flag = False\n",
    "#                 else:\n",
    "#                     f.write(',' + str(el))\n",
    "#             f.write(footer)\n",
    "            \n",
    "    \n",
    "        \n",
    "    print(\"Done computing inundation map for %s events.\" % meta_event)\n",
    "\n",
    "# Append some extra variables to the end of the file\n",
    "with open(out_file,'a') as f:\n",
    "    # Array containing strings of probabilities\n",
    "    p_inv = [str(int(1./p)) for p in probabilities]\n",
    "    write_js_array_variable(f,p_inv,p_inv_name)\n",
    "    \n",
    "    # Arrays containing the inundation map variables for the different subsets of events\n",
    "    for meta_event in meta_events:\n",
    "        maps = [\"%s_eta_pInv%d\" %(meta_event,int(1./probability)) for probability in probabilities]\n",
    "        write_js_array_variable(f, maps, maps_prefix + meta_event)\n",
    "    \n",
    "#     # Array containing all the near event inundation maps\n",
    "#     near_maps = [\"near_eta_pInv%d\" %(int(1./probability)) for probability in probabilities]\n",
    "#     write_js_array_variable(f,near_maps,near_maps_name)\n",
    "    \n",
    "#     # Array containing all the far event inundation maps\n",
    "#     far_maps = [\"near_eta_pInv%d\" %(int(1./probability)) for probability in probabilities]\n",
    "#     write_js_array_variable(f,far_maps,far_maps_name)\n",
    "    \n",
    "#     # Array containing all the inundation maps\n",
    "#     all_maps = [\"all_eta_pInv%d\" %(int(1./probability)) for probability in probabilities]\n",
    "#     write_js_array_variable(f,all_maps,all_maps_name)\n",
    "    "
   ]
  },
  {
   "cell_type": "code",
   "execution_count": null,
   "metadata": {
    "collapsed": true
   },
   "outputs": [],
   "source": []
  }
 ],
 "metadata": {
  "kernelspec": {
   "display_name": "Python 2",
   "language": "python",
   "name": "python2"
  },
  "language_info": {
   "codemirror_mode": {
    "name": "ipython",
    "version": 2
   },
   "file_extension": ".py",
   "mimetype": "text/x-python",
   "name": "python",
   "nbconvert_exporter": "python",
   "pygments_lexer": "ipython2",
   "version": "2.7.6"
  }
 },
 "nbformat": 4,
 "nbformat_minor": 2
}
