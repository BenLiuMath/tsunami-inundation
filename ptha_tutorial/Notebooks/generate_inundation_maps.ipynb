{
 "cells": [
  {
   "cell_type": "markdown",
   "metadata": {},
   "source": [
    "## Generate inundation maps for various probabilities\n",
    "Given a set of probabilities and events, this notebook computes the corresponding inundation maps and outputs them to text files in a format javascript can use.\n",
    "\n",
    "This script recycles lots of code from [Make_Hazard_Curves_and_Maps.ipynb](Make_Hazard_Curves_and_Maps.ipynb).\n",
    "\n",
    "### Import libraries needed to run notebook"
   ]
  },
  {
   "cell_type": "code",
   "execution_count": 1,
   "metadata": {
    "collapsed": false
   },
   "outputs": [
    {
     "name": "stdout",
     "output_type": "stream",
     "text": [
      "Populating the interactive namespace from numpy and matplotlib\n",
      "Assuming that top level of this repository is at: /media/brian/TBdrive/Documents/Coursework/CSE512/Homework/project/tsunami-inundation/ptha_tutorial\n",
      "    Python codes can be found in codes_dir = /media/brian/TBdrive/Documents/Coursework/CSE512/Homework/project/tsunami-inundation/ptha_tutorial/PythonCode\n",
      "    Data files can be found in data_dir = /media/brian/TBdrive/Documents/Coursework/CSE512/Homework/project/tsunami-inundation/ptha_tutorial/DataFiles\n",
      "    Results for each event can be found in events_dir = /media/brian/TBdrive/Documents/Coursework/CSE512/Homework/project/tsunami-inundation/ptha_tutorial/DataFiles/Events\n",
      "Assuming that top level of the CSE512 repository is at: /media/brian/TBdrive/Documents/Coursework/CSE512/Homework/project/tsunami-inundation\n",
      "    JavaScript data files can be found in data_dir = /media/brian/TBdrive/Documents/Coursework/CSE512/Homework/project/tsunami-inundation/docs/data\n"
     ]
    }
   ],
   "source": [
    "%pylab inline\n",
    "from __future__ import print_function\n",
    "from ptha_paths import data_dir, events_dir, js_data_dir\n",
    "import sys, os"
   ]
  },
  {
   "cell_type": "markdown",
   "metadata": {},
   "source": [
    "### Set parameters"
   ]
  },
  {
   "cell_type": "code",
   "execution_count": 16,
   "metadata": {
    "collapsed": true
   },
   "outputs": [],
   "source": [
    "# The probabilities for which we want to generate inundation maps\n",
    "probabilities = [1./50, 1./100, 1./200, 1./500, 1./1000, 1./5000, 1./10000]\n",
    "\n",
    "# A dictionary of sets of events to consider\n",
    "meta_events         = {}\n",
    "meta_events['all']  = ['AASZa', 'AASZb', 'AASZc', 'AASZd', 'CSZa', 'CSZb', 'CSZc', 'CSZd', 'CSZe', \\\n",
    "                       'CSZf', 'KmSZa', 'KrSZa', 'SChSZa', 'TOHa']\n",
    "meta_events['near_field'] = ['CSZa', 'CSZb', 'CSZc', 'CSZd', 'CSZe', 'CSZf']\n",
    "meta_events['far_field']  = ['AASZa', 'AASZb', 'AASZc', 'AASZd', 'KmSZa', 'KrSZa', 'SChSZa', 'TOHa']\n",
    "\n",
    "# Specify the range of exceedance values in which we are interested (in meters).\n",
    "# This determines the resolution and range of values in the inundation maps: \n",
    "# their values will be in the set linspace(zeta_a,zeta_b,n_zeta).\n",
    "zeta_a = 0\n",
    "zeta_b = 12\n",
    "n_zeta = 121\n",
    "zeta   = linspace(zeta_a,zeta_b,n_zeta)\n",
    "\n",
    "# Resolution of the data\n",
    "nx = 250\n",
    "ny = 250"
   ]
  },
  {
   "cell_type": "markdown",
   "metadata": {},
   "source": [
    "### Some information on the events\n",
    "The naming convention is the name of a subduction zone, followed by an event number, followed by a realization number, but for our purposes we will think of these as independent events.   The subduction zones represented are:\n",
    "- AASZ: Alaska-Aleutian\n",
    "- CSZ: Cascadia\n",
    "- KmSZ: Kamchatka\n",
    "- KrSZ: Kurils\n",
    "- SChSZ: Southern Chile\n",
    "- TOH: Japan / Tohoku\n",
    "\n",
    "The inundation patterns shown above were computed as part of a project to develop new techniques for probabilistic tsunami hazard assessment (PTHA), and are reprinted from the report \n",
    "\n",
    "- *Probabilistic Tsunami Hazard Assessment (PTHA) for Crescent City, CA.*, by Frank I. Gonzalez, Randall J. LeVeque, Loyce M. Adams, Chris Goldfinger, George R. Priest, and Kelin Wang, <http://hdl.handle.net/1773/25916>\n",
    "\n",
    "They were computed by running the [GeoClaw](http://www.geoclaw.org) tsunami model with the given earthquake source and then monitoring the maximum inundation depth observed at each point on shore over the course of the entire simulation.  (Actually on a fine grid of points covering the region shown above, with horizontal resolution of 1/3 arcsecond, about 10 meters in latitude and 7 meters in longitude)."
   ]
  },
  {
   "cell_type": "markdown",
   "metadata": {},
   "source": [
    "### Set the annual probability for each event\n",
    "We create a dictionary storing the probabilities of each event. These were given to us from Randy. We did not come up with them ourselves."
   ]
  },
  {
   "cell_type": "code",
   "execution_count": 3,
   "metadata": {
    "collapsed": true
   },
   "outputs": [],
   "source": [
    "event_prob           = {}\n",
    "event_prob['AASZa']  = 1./394.\n",
    "event_prob['AASZb']  = 1./750.\n",
    "event_prob['AASZc']  = 1./563.\n",
    "event_prob['AASZd']  = 1./324.\n",
    "event_prob['CSZa']   = 1./250. * .0125\n",
    "event_prob['CSZb']   = 1./250. * .0125\n",
    "event_prob['CSZc']   = 1./250. * .0750\n",
    "event_prob['CSZd']   = 1./250. * .5000\n",
    "event_prob['CSZe']   = 1./250. * .1750\n",
    "event_prob['CSZf']   = 1./250. * .2250\n",
    "event_prob['KmSZa']  = 1./50.\n",
    "event_prob['KrSZa']  = 1./167.\n",
    "event_prob['SChSZa'] = 1./300.\n",
    "event_prob['TOHa']   = 1./103."
   ]
  },
  {
   "cell_type": "markdown",
   "metadata": {},
   "source": [
    "### Define a function to combine two events"
   ]
  },
  {
   "cell_type": "code",
   "execution_count": 4,
   "metadata": {
    "collapsed": true
   },
   "outputs": [],
   "source": [
    "def combine_prob(p1,p2):\n",
    "    \"\"\"Returns the probability that event 1 or 2 happens\"\"\"\n",
    "    return 1. - (1 - p1) * (1 - p2)"
   ]
  },
  {
   "cell_type": "markdown",
   "metadata": {},
   "source": [
    "### Create a function that computes inundation for a given probability\n",
    "A more commonly used map is obtained by fixing a probability (e.g. $p = 0.01$ for a \"100-year\" flood map) and plotting the maximum depth expected with this annual probability.   \n",
    "\n",
    "This requires determining, for each grid point `(i,j)`, the largest value of `k` for which `exceed_prob[k]`  $\\geq p$. Then the value `zeta[k]` is the largest exceedance value for which the probability is at least $p$.\n",
    "\n",
    "Recall that `zeta` is defined to be maximum depth of inundation on shore, or maximum height above MHW offshore."
   ]
  },
  {
   "cell_type": "code",
   "execution_count": 26,
   "metadata": {
    "collapsed": true
   },
   "outputs": [],
   "source": [
    "def compute_zeta(p,exceed_prob):\n",
    "\n",
    "    # create boolean array K with K[i,j,k] == True only where exceed_prob[i,j,k] > p:\n",
    "    K = exceed_prob > p\n",
    "\n",
    "    K[:,:,0] = True\n",
    "    zeta_p = zeros((nx,ny))\n",
    "    for i in xrange(nx):\n",
    "        for j in xrange(ny):\n",
    "            zeta_p[i,j] = zeta[K[i,j,:]][-1]\n",
    "    return zeta_p"
   ]
  },
  {
   "cell_type": "markdown",
   "metadata": {},
   "source": [
    "### Form and save inundation maps"
   ]
  },
  {
   "cell_type": "code",
   "execution_count": 28,
   "metadata": {
    "collapsed": false,
    "scrolled": true
   },
   "outputs": [
    {
     "name": "stdout",
     "output_type": "stream",
     "text": [
      "Done computing inundation map for near_field events.\n",
      "Done computing inundation map for all events.\n",
      "Done computing inundation map for far_field events.\n"
     ]
    }
   ],
   "source": [
    "# Loop over the meta events\n",
    "for meta_event, events in meta_events.iteritems():\n",
    "    \n",
    "    # Compute the combined probability of exceeding each exceedance value\n",
    "    exceed_prob = zeros((nx,ny,n_zeta))\n",
    "    \n",
    "    # Loop over all events and update exceed_prob at each grid point by combining\n",
    "    # current value with the probability Pk of this event:\n",
    "\n",
    "    for event in events:\n",
    "        event_dir = os.path.join(events_dir, event)\n",
    "        hmax_file = os.path.join(event_dir, 'h_eta_small.npy')\n",
    "        hmax      = load(hmax_file)\n",
    "        Hmax      = hmax.reshape((nx,ny),order='F')\n",
    "        for k in xrange(n_zeta):\n",
    "            Pk = exceed_prob[:,:,k]  # probabilities at all points for one exceedance value zeta_k\n",
    "            exceed_prob[:,:,k] = where(Hmax > zeta[k], combine_prob(event_prob[event],Pk), Pk)\n",
    "    \n",
    "    # Get the inundation array associated with each probability and write to a text file\n",
    "    for probability in probabilities:\n",
    "        # Get the inundation array\n",
    "        inundation_array = compute_zeta(probability,exceed_prob)\n",
    "        \n",
    "        # Write to text file\n",
    "        file_identifier = \"%s_eta_pInv%d\" %(meta_event, int(1./probability))\n",
    "        out_file = os.path.join(js_data_dir, \"%s.js\" % file_identifier  )\n",
    "        \n",
    "        header = \"var %s = {\\\"width\\\":%d,\\\"height\\\":%d,\\\"values\\\":[\\n\" %(file_identifier, nx, ny)\n",
    "        footer = \"]};\"\n",
    "        with open(out_file,'w') as f:\n",
    "            f.write(header)\n",
    "            first_flag = True\n",
    "            for el in inundation_array.ravel():\n",
    "                if first_flag:\n",
    "                    f.write(str(el))\n",
    "                    first_flag = False\n",
    "                else:\n",
    "                    f.write(',' + str(el))\n",
    "            f.write(footer)\n",
    "            \n",
    "    \n",
    "        \n",
    "    print(\"Done computing inundation map for %s events.\" % meta_event)"
   ]
  },
  {
   "cell_type": "code",
   "execution_count": null,
   "metadata": {
    "collapsed": true
   },
   "outputs": [],
   "source": []
  }
 ],
 "metadata": {
  "kernelspec": {
   "display_name": "Python 2",
   "language": "python",
   "name": "python2"
  },
  "language_info": {
   "codemirror_mode": {
    "name": "ipython",
    "version": 2
   },
   "file_extension": ".py",
   "mimetype": "text/x-python",
   "name": "python",
   "nbconvert_exporter": "python",
   "pygments_lexer": "ipython2",
   "version": "2.7.6"
  }
 },
 "nbformat": 4,
 "nbformat_minor": 2
}
