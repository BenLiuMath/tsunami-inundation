{
 "cells": [
  {
   "cell_type": "markdown",
   "metadata": {},
   "source": [
    "## Generate geoJSON files for contours of inundation map"
   ]
  },
  {
   "cell_type": "markdown",
   "metadata": {},
   "source": [
    "## References\n",
    "\n",
    "1. [Extracting contours](https://stackoverflow.com/questions/18304722/python-find-contour-lines-from-matplotlib-pyplot-contour)\n",
    "2. [Python Path objects](https://matplotlib.org/api/path_api.html)\n",
    "3. [Geojson package](https://pypi.org/project/geojson/)\n",
    "4. [Python Path tutorial](https://matplotlib.org/users/path_tutorial.html)"
   ]
  },
  {
   "cell_type": "markdown",
   "metadata": {},
   "source": [
    "### First import some necessary tools\n",
    "Note: you'll need to install the geojson module to run this notebook. If you have pip you can simply run\n",
    ">pip install geojson"
   ]
  },
  {
   "cell_type": "code",
   "execution_count": 1,
   "metadata": {},
   "outputs": [
    {
     "name": "stdout",
     "output_type": "stream",
     "text": [
      "Populating the interactive namespace from numpy and matplotlib\n"
     ]
    }
   ],
   "source": [
    "%pylab inline"
   ]
  },
  {
   "cell_type": "code",
   "execution_count": 2,
   "metadata": {},
   "outputs": [
    {
     "name": "stdout",
     "output_type": "stream",
     "text": [
      "Assuming that top level of this repository is at: /Users/aengle/Desktop/tsunami-inundation/ptha_tutorial\n",
      "    Python codes can be found in codes_dir = /Users/aengle/Desktop/tsunami-inundation/ptha_tutorial/PythonCode\n",
      "    Data files can be found in data_dir = /Users/aengle/Desktop/tsunami-inundation/ptha_tutorial/DataFiles\n",
      "    Results for each event can be found in events_dir = /Users/aengle/Desktop/tsunami-inundation/ptha_tutorial/DataFiles/Events\n"
     ]
    }
   ],
   "source": [
    "from __future__ import print_function\n",
    "from ptha_paths import data_dir, events_dir\n",
    "import sys, os\n",
    "from matplotlib import _cntr as cntr\n",
    "from geojson import MultiPolygon, Feature, FeatureCollection, dump"
   ]
  },
  {
   "cell_type": "markdown",
   "metadata": {},
   "source": [
    "### Set parameters "
   ]
  },
  {
   "cell_type": "code",
   "execution_count": 3,
   "metadata": {},
   "outputs": [],
   "source": [
    "# Parameters\n",
    "events = ['AASZa', 'AASZb', 'AASZc', 'AASZd', 'CSZa', 'CSZb', 'CSZc', 'CSZd', 'CSZe', \\\n",
    "              'CSZf', 'KmSZa', 'KrSZa', 'SChSZa', 'TOHa']     # The events to consider\n",
    "num_levels = 5        # The number of levels to partition inundation into"
   ]
  },
  {
   "cell_type": "markdown",
   "metadata": {},
   "source": [
    "### Read in the topography data and compute zeta-clines"
   ]
  },
  {
   "cell_type": "code",
   "execution_count": 91,
   "metadata": {},
   "outputs": [],
   "source": [
    "# Read in topography data:\n",
    "nx = 250\n",
    "ny = 250\n",
    "\n",
    "fixed_grid_file = os.path.join(data_dir, 'MapsTopo', 'fixedgrid_xyB_small.npy')\n",
    "d=load(fixed_grid_file)\n",
    "x=d[:,0] - 360   # Longitudes\n",
    "y=d[:,1]         # Latitudes\n",
    "B=d[:,2]         # Bathymetry (topography in the absence of water)\n",
    "topo = reshape(B, (nx,ny), order='F')\n",
    "X = reshape(x, (nx,ny), order='F')\n",
    "Y = reshape(y, (nx,ny), order='F')"
   ]
  },
  {
   "cell_type": "code",
   "execution_count": 204,
   "metadata": {
    "collapsed": true
   },
   "outputs": [],
   "source": [
    "zeta_level_values = [1.e-3] +  list(linspace(0.5,4.5,num_levels-1))\n",
    "\n",
    "\n",
    "# Loop over all events and compute zeta clines for each\n",
    "# Collect zeta clines for each level in multi-polygon environments\n",
    "for event in events:\n",
    "    event_dir = os.path.join(events_dir, event)\n",
    "    hmax_file = os.path.join(event_dir, 'h_eta_small.npy')\n",
    "    hmax = load(hmax_file)\n",
    "    Hmax = hmax.reshape((nx,ny),order='F')\n",
    "    features = [None] * num_levels\n",
    "    c = cntr.Cntr(X,Y,Hmax)\n",
    "    for k in xrange(num_levels):\n",
    "        # Go from largest values to smallest to get appropriate overlapping\n",
    "        # contours = c.trace(zeta_level_values[num_levels-k-1])  # this returns paths and categorical variables. Separate..\n",
    "        contours = c.trace(zeta_level_values[num_levels-k-1])  # this returns paths and categorical variables. Separate..\n",
    "        num_paths = len(contours) // 2   # Half of the entries correspond to path connection types\n",
    "        path_list = [poly.tolist() for poly in contours[:num_paths]]  # grab the first half\n",
    "        multi_poly = MultiPolygon([path_list])\n",
    "        features[num_levels-k-1] = Feature(geometry=multi_poly)\n",
    "        \n",
    "    feature_collection = FeatureCollection(features)\n",
    "    json_file = os.path.join(event_dir, 'contours.geojson')\n",
    "    \n",
    "    # Write to a file using geojson dump in the events dir (see first cell of this notebook)\n",
    "    with open(json_file, 'w') as outfile:\n",
    "        dump(feature_collection,outfile)\n",
    "    "
   ]
  },
  {
   "cell_type": "markdown",
   "metadata": {},
   "source": [
    "# Everything below is experiments with contour plots in matplotlib."
   ]
  },
  {
   "cell_type": "code",
   "execution_count": 136,
   "metadata": {},
   "outputs": [],
   "source": [
    "from matplotlib import contour"
   ]
  },
  {
   "cell_type": "code",
   "execution_count": 143,
   "metadata": {},
   "outputs": [
    {
     "data": {
      "text/plain": [
       "<matplotlib.contour.QuadContourSet at 0x1161e33d0>"
      ]
     },
     "execution_count": 143,
     "metadata": {},
     "output_type": "execute_result"
    },
    {
     "data": {
      "image/png": "[encoded data removed]",
      "text/plain": [
       "<matplotlib.figure.Figure at 0x1162512d0>"
      ]
     },
     "metadata": {},
     "output_type": "display_data"
    }
   ],
   "source": [
    "plt.contourf(X,Y,Hmax,zeta_level_values)"
   ]
  },
  {
   "cell_type": "code",
   "execution_count": 197,
   "metadata": {},
   "outputs": [],
   "source": [
    "## example\n",
    "xx = np.linspace(-1,1,nx)\n",
    "XX = np.repeat(xx, nx).reshape(nx,ny)\n",
    "YY = np.tile(xx, nx).reshape(nx,ny)\n",
    "ZZ = XX**2 + YY**2\n",
    "c = cntr.Cntr(XX, YY, ZZ)\n",
    "contours = c.trace(0.5)  # the ZZ = 0.5 level-curve\n",
    "num_paths = len(contours) // 2  # see this stackexchange link\n",
    "# https://stackoverflow.com/questions/18304722/python-find-contour-lines-from-matplotlib-pyplot-contour"
   ]
  },
  {
   "cell_type": "code",
   "execution_count": 203,
   "metadata": {},
   "outputs": [
    {
     "data": {
      "text/plain": [
       "<matplotlib.contour.QuadContourSet at 0x117d72110>"
      ]
     },
     "execution_count": 203,
     "metadata": {},
     "output_type": "execute_result"
    },
    {
     "data": {
      "image/png": "[encoded data removed]",
      "text/plain": [
       "<matplotlib.figure.Figure at 0x117bac3d0>"
      ]
     },
     "metadata": {},
     "output_type": "display_data"
    }
   ],
   "source": [
    "plt.contourf(XX,YY,ZZ,levels=[0,0.5,1,1.5,1.75])"
   ]
  }
 ],
 "metadata": {
  "kernelspec": {
   "display_name": "Python 2",
   "language": "python",
   "name": "python2"
  },
  "language_info": {
   "codemirror_mode": {
    "name": "ipython",
    "version": 2
   },
   "file_extension": ".py",
   "mimetype": "text/x-python",
   "name": "python",
   "nbconvert_exporter": "python",
   "pygments_lexer": "ipython2",
   "version": "2.7.14"
  }
 },
 "nbformat": 4,
 "nbformat_minor": 2
}
