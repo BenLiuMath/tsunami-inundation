{
 "cells": [
  {
   "cell_type": "markdown",
   "metadata": {},
   "source": [
    "## Generate geoJSON files for contours of inundation map"
   ]
  },
  {
   "cell_type": "markdown",
   "metadata": {},
   "source": [
    "## References\n",
    "\n",
    "1. [Extracting contours](https://stackoverflow.com/questions/18304722/python-find-contour-lines-from-matplotlib-pyplot-contour)\n",
    "2. [Python Path objects](https://matplotlib.org/api/path_api.html)\n",
    "3. [Geojson package](https://pypi.org/project/geojson/)\n",
    "4. [Python Path tutorial](https://matplotlib.org/users/path_tutorial.html)\n",
    "5. [Shapely package](https://pypi.org/project/Shapely/)"
   ]
  },
  {
   "cell_type": "markdown",
   "metadata": {},
   "source": [
    "### First import some necessary tools\n",
    "Note: you'll need to install the geojson module to run this notebook. If you have pip you can simply run\n",
    ">pip install geojson"
   ]
  },
  {
   "cell_type": "code",
   "execution_count": 1,
   "metadata": {
    "collapsed": false
   },
   "outputs": [
    {
     "name": "stdout",
     "output_type": "stream",
     "text": [
      "Populating the interactive namespace from numpy and matplotlib\n"
     ]
    }
   ],
   "source": [
    "%pylab inline"
   ]
  },
  {
   "cell_type": "code",
   "execution_count": 2,
   "metadata": {
    "collapsed": false
   },
   "outputs": [
    {
     "name": "stdout",
     "output_type": "stream",
     "text": [
      "Assuming that top level of this repository is at: C:\\xampp\\htdocs\\tsunami-inundation\\ptha_tutorial\n",
      "    Python codes can be found in codes_dir = C:\\xampp\\htdocs\\tsunami-inundation\\ptha_tutorial\\PythonCode\n",
      "    Data files can be found in data_dir = C:\\xampp\\htdocs\\tsunami-inundation\\ptha_tutorial\\DataFiles\n",
      "    Results for each event can be found in events_dir = C:\\xampp\\htdocs\\tsunami-inundation\\ptha_tutorial\\DataFiles\\Events\n"
     ]
    }
   ],
   "source": [
    "from __future__ import print_function\n",
    "from ptha_paths import data_dir, events_dir\n",
    "import sys, os\n",
    "from matplotlib import _cntr as cntr\n",
    "from geojson import MultiPolygon, Feature, FeatureCollection, dump\n",
    "from skimage import measure\n",
    "import geojson"
   ]
  },
  {
   "cell_type": "markdown",
   "metadata": {},
   "source": [
    "### Set parameters "
   ]
  },
  {
   "cell_type": "code",
   "execution_count": 3,
   "metadata": {
    "collapsed": true
   },
   "outputs": [],
   "source": [
    "# Parameters\n",
    "events = ['AASZa', 'AASZb', 'AASZc', 'AASZd', 'CSZa', 'CSZb', 'CSZc', 'CSZd', 'CSZe', \\\n",
    "              'CSZf', 'KmSZa', 'KrSZa', 'SChSZa', 'TOHa']     # The events to consider\n",
    "sch = ['SChSZa']\n",
    "num_levels = 5       # The number of levels to partition inundation into\n",
    "zeta_level_values = [1e-2] + list(linspace(0.5,4.5,num_levels-1))"
   ]
  },
  {
   "cell_type": "code",
   "execution_count": 4,
   "metadata": {
    "collapsed": false
   },
   "outputs": [
    {
     "data": {
      "text/plain": [
       "[0.01, 0.5, 1.8333333333333333, 3.1666666666666665, 4.5]"
      ]
     },
     "execution_count": 4,
     "metadata": {},
     "output_type": "execute_result"
    }
   ],
   "source": [
    "zeta_level_values"
   ]
  },
  {
   "cell_type": "markdown",
   "metadata": {},
   "source": [
    "### Read in the topography data and compute zeta-clines"
   ]
  },
  {
   "cell_type": "code",
   "execution_count": 5,
   "metadata": {
    "collapsed": true
   },
   "outputs": [],
   "source": [
    "# Read in topography data:\n",
    "nx = 250\n",
    "ny = 250\n",
    "\n",
    "fixed_grid_file = os.path.join(data_dir, 'MapsTopo', 'fixedgrid_xyB_small.npy')\n",
    "d=load(fixed_grid_file)\n",
    "x=d[:,0] - 360   # Longitudes\n",
    "y=d[:,1]         # Latitudes\n",
    "B=d[:,2]         # Bathymetry (topography in the absence of water)\n",
    "topo = reshape(B, (nx,ny), order='F')\n",
    "X = reshape(x, (nx,ny), order='F')  # X[0,0] is min long, X[-1, 0] is max long\n",
    "Y = reshape(y, (nx,ny), order='F')  # Y[0,0] is min lat,  Y[0, -1] is max lat"
   ]
  },
  {
   "cell_type": "code",
   "execution_count": 59,
   "metadata": {
    "collapsed": false,
    "scrolled": false
   },
   "outputs": [
    {
     "name": "stdout",
     "output_type": "stream",
     "text": [
      "AASZa\n",
      "(62500L,)\n",
      "AASZb\n",
      "(62500L,)\n",
      "AASZc\n",
      "(62500L,)\n",
      "AASZd\n",
      "(62500L,)\n",
      "CSZa\n",
      "(62500L,)\n",
      "CSZb\n",
      "(62500L,)\n",
      "CSZc\n",
      "(62500L,)\n",
      "CSZd\n",
      "(62500L,)\n",
      "CSZe\n",
      "(62500L,)\n",
      "CSZf\n",
      "(62500L,)\n",
      "KmSZa\n",
      "(62500L,)\n",
      "KrSZa\n",
      "(62500L,)\n",
      "SChSZa\n",
      "(62500L,)\n",
      "TOHa\n",
      "(62500L,)\n"
     ]
    }
   ],
   "source": [
    "# Loop over all events and compute zeta clines for each\n",
    "# Collect zeta clines for each level in multi-polygon environments\n",
    "# for event in events:\n",
    "for event in events:\n",
    "    print(event)\n",
    "    event_dir = os.path.join(events_dir, event)\n",
    "    hmax_file = os.path.join(event_dir, 'h_eta_small.npy')\n",
    "    hmax = load(hmax_file)\n",
    "    Hmax = hmax.reshape((nx,ny),order='F')\n",
    "    #Hmax = Hmax[0:5,0:5];\n",
    "    \n",
    "    datfile = os.path.join(event_dir, 'eta_arr.geojson')\n",
    "    #print(datfile)\n",
    "    \n",
    "    fileheader = \"{\\\"width\\\":%d,\\\"height\\\":%d,\\\"values\\\":[\" % Hmax.shape;\n",
    "    \n",
    "    #print(fileheader)\n",
    "    #numpy.savetxt(datfile,Hmax.ravel(), delimiter=\",\",fmt=\"%0.16f\",header=fileheader,footer=\"]};\",comments=\"\")\n",
    "    numpy.savetxt(datfile,Hmax.ravel(), newline=\",\",fmt=\"%0.6f\")\n",
    "    \n",
    "    print(Hmax.ravel().shape)\n",
    "    "
   ]
  },
  {
   "cell_type": "code",
   "execution_count": 53,
   "metadata": {
    "collapsed": false
   },
   "outputs": [],
   "source": [
    "tmp = numpy.array([1,2,3,4,5])\n",
    "#tmp.tofile(\"tmp.dat\",sep=\",\",format=\"%0.12f\")\n",
    "?tmp.tostring"
   ]
  },
  {
   "cell_type": "code",
   "execution_count": null,
   "metadata": {
    "collapsed": true
   },
   "outputs": [],
   "source": []
  }
 ],
 "metadata": {
  "kernelspec": {
   "display_name": "Python 2",
   "language": "python",
   "name": "python2"
  },
  "language_info": {
   "codemirror_mode": {
    "name": "ipython",
    "version": 2
   },
   "file_extension": ".py",
   "mimetype": "text/x-python",
   "name": "python",
   "nbconvert_exporter": "python",
   "pygments_lexer": "ipython2",
   "version": "2.7.15"
  }
 },
 "nbformat": 4,
 "nbformat_minor": 2
}
