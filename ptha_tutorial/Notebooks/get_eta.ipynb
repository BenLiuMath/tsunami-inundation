{
 "cells": [
  {
   "cell_type": "markdown",
   "metadata": {},
   "source": [
    "## Transform eta maps to javascript usable format\n",
    "This notebook reads in h/eta values from h_eta_small.npy files and aggregates them as javascript variables in a single file."
   ]
  },
  {
   "cell_type": "markdown",
   "metadata": {},
   "source": [
    "### First import some necessary tools\n"
   ]
  },
  {
   "cell_type": "code",
   "execution_count": 1,
   "metadata": {
    "collapsed": false
   },
   "outputs": [
    {
     "name": "stdout",
     "output_type": "stream",
     "text": [
      "Populating the interactive namespace from numpy and matplotlib\n",
      "Assuming that top level of this repository is at: /media/brian/TBdrive/Documents/Coursework/CSE512/Homework/project/tsunami-inundation/ptha_tutorial\n",
      "    Python codes can be found in codes_dir = /media/brian/TBdrive/Documents/Coursework/CSE512/Homework/project/tsunami-inundation/ptha_tutorial/PythonCode\n",
      "    Data files can be found in data_dir = /media/brian/TBdrive/Documents/Coursework/CSE512/Homework/project/tsunami-inundation/ptha_tutorial/DataFiles\n",
      "    Results for each event can be found in events_dir = /media/brian/TBdrive/Documents/Coursework/CSE512/Homework/project/tsunami-inundation/ptha_tutorial/DataFiles/Events\n",
      "Assuming that top level of the CSE512 repository is at: /media/brian/TBdrive/Documents/Coursework/CSE512/Homework/project/tsunami-inundation\n",
      "    JavaScript data files can be found in data_dir = /media/brian/TBdrive/Documents/Coursework/CSE512/Homework/project/tsunami-inundation/docs/data\n"
     ]
    }
   ],
   "source": [
    "%pylab inline\n",
    "from __future__ import print_function\n",
    "from ptha_paths import data_dir, events_dir, js_data_dir\n",
    "import sys, os"
   ]
  },
  {
   "cell_type": "markdown",
   "metadata": {},
   "source": [
    "### Set parameters "
   ]
  },
  {
   "cell_type": "code",
   "execution_count": 2,
   "metadata": {
    "collapsed": false
   },
   "outputs": [],
   "source": [
    "# The events to consider\n",
    "events = ['AASZa', 'AASZb', 'AASZc', 'AASZd', 'CSZa', 'CSZb', 'CSZc', 'CSZd', 'CSZe', \\\n",
    "              'CSZf', 'KmSZa', 'KrSZa', 'SChSZa', 'TOHa']\n",
    "\n",
    "# Resolution of the data\n",
    "nx = 250\n",
    "ny = 250\n",
    "\n",
    "# Name of file where we will output results\n",
    "out_filename = 'eta_arrs.js'\n"
   ]
  },
  {
   "cell_type": "markdown",
   "metadata": {},
   "source": [
    "### Set the full names (or decodes) of the abbreviated event names"
   ]
  },
  {
   "cell_type": "code",
   "execution_count": 3,
   "metadata": {
    "collapsed": true
   },
   "outputs": [],
   "source": [
    "decodes = {}\n",
    "decodes['AASZa']  = 'Alaska A'\n",
    "decodes['AASZb']  = 'Alaska B'\n",
    "decodes['AASZc']  = 'Alaska C'\n",
    "decodes['AASZd']  = 'Alaska D'\n",
    "decodes['CSZa']   = 'Cascadia A'\n",
    "decodes['CSZb']   = 'Cascadia B'\n",
    "decodes['CSZc']   = 'Cascadia C'\n",
    "decodes['CSZd']   = 'Cascadia D'\n",
    "decodes['CSZe']   = 'Cascadia E'\n",
    "decodes['CSZf']   = 'Cascadia F'\n",
    "decodes['KmSZa']  = 'Kamchatka'\n",
    "decodes['KrSZa']  = 'Kurils'\n",
    "decodes['SChSZa'] = 'Southern Chile'\n",
    "decodes['TOHa']   = 'Tohoku'"
   ]
  },
  {
   "cell_type": "markdown",
   "metadata": {},
   "source": [
    "### Set the annual probability for each event\n",
    "We create a dictionary storing the probabilities of each event. These were given to us from Randy. We did not come up with them ourselves."
   ]
  },
  {
   "cell_type": "code",
   "execution_count": 4,
   "metadata": {
    "collapsed": true
   },
   "outputs": [],
   "source": [
    "event_prob           = {}\n",
    "event_prob['AASZa']  = 1./394.\n",
    "event_prob['AASZb']  = 1./750.\n",
    "event_prob['AASZc']  = 1./563.\n",
    "event_prob['AASZd']  = 1./324.\n",
    "event_prob['CSZa']   = 1./250. * .0125\n",
    "event_prob['CSZb']   = 1./250. * .0125\n",
    "event_prob['CSZc']   = 1./250. * .0750\n",
    "event_prob['CSZd']   = 1./250. * .5000\n",
    "event_prob['CSZe']   = 1./250. * .1750\n",
    "event_prob['CSZf']   = 1./250. * .2250\n",
    "event_prob['KmSZa']  = 1./50.\n",
    "event_prob['KrSZa']  = 1./167.\n",
    "event_prob['SChSZa'] = 1./300.\n",
    "event_prob['TOHa']   = 1./103."
   ]
  },
  {
   "cell_type": "markdown",
   "metadata": {},
   "source": [
    "### Loop over all events and output zeta to a javascript file"
   ]
  },
  {
   "cell_type": "code",
   "execution_count": 8,
   "metadata": {
    "collapsed": false,
    "scrolled": false
   },
   "outputs": [],
   "source": [
    "# Get location of file where we'll output the results\n",
    "out_file = os.path.join(js_data_dir,out_filename)\n",
    "\n",
    "first_event = True\n",
    "for event in events:\n",
    "    \n",
    "    # Load the eta data file\n",
    "    event_dir = os.path.join(events_dir, event)\n",
    "    hmax_file = os.path.join(event_dir, 'h_eta_small.npy')\n",
    "    hmax      = load(hmax_file)\n",
    "    Hmax      = hmax.reshape((nx,ny),order='F')\n",
    "\n",
    "    # Define some strings to help us format the output javascript-friendly way\n",
    "    var_name    = \"%s\" %(event)\n",
    "    name_pair   = \"\\\"name\\\":\\\"%s\\\"\" %(event)\n",
    "    decode_pair = \"\\\"decode\\\":\\\"%s\\\"\" %(decodes[event])\n",
    "    prob_pair   = \"\\\"probability\\\":%f\" %(event_prob[event])\n",
    "    \n",
    "    \n",
    "    header  = \"var %s = {%s,%s,%s,\\\"eta_data\\\":{\\\"width\\\":%d,\\\"height\\\":%d,\\\"values\\\":[\" \\\n",
    "                 %(var_name, name_pair, decode_pair, prob_pair, nx, ny)\n",
    "    footer  = \"]}};\\n\"\n",
    "    \n",
    "    # Write the text to a file\n",
    "    # We want the first event to overwrite the previous file\n",
    "    if first_event:\n",
    "        with open(out_file,'w') as f:\n",
    "            f.write(header)\n",
    "            first_flag = True\n",
    "            for entry in Hmax.ravel():\n",
    "                if first_flag:\n",
    "                    f.write(str(entry))\n",
    "                    first_flag = False\n",
    "                else:\n",
    "                    f.write(',' + str(entry))\n",
    "            f.write(footer)\n",
    "        first_event = False\n",
    "    # Otherwise we just append incoming data as new rows in the same file\n",
    "    else:\n",
    "        with open(out_file,'a') as f:\n",
    "            f.write(header)\n",
    "            first_flag = True\n",
    "            for entry in Hmax.ravel():\n",
    "                if first_flag:\n",
    "                    f.write(str(entry))\n",
    "                    first_flag = False\n",
    "                else:\n",
    "                    f.write(',' + str(entry))\n",
    "            f.write(footer)\n",
    "        \n",
    "\n",
    "# Write one more variable to the file containing all the variable/event names\n",
    "with open(out_file,'a') as f:\n",
    "    f.write(\"var etas_both = [\")\n",
    "    first_flag = True\n",
    "    for event in events:\n",
    "        if first_flag:\n",
    "            f.write(str(event))\n",
    "            first_flag = False\n",
    "        else:\n",
    "            f.write(\",\" + str(event))\n",
    "    \n",
    "    \n",
    "    f.write(\"];\\n\")\n"
   ]
  },
  {
   "cell_type": "code",
   "execution_count": null,
   "metadata": {
    "collapsed": true
   },
   "outputs": [],
   "source": []
  }
 ],
 "metadata": {
  "kernelspec": {
   "display_name": "Python 2",
   "language": "python",
   "name": "python2"
  },
  "language_info": {
   "codemirror_mode": {
    "name": "ipython",
    "version": 2
   },
   "file_extension": ".py",
   "mimetype": "text/x-python",
   "name": "python",
   "nbconvert_exporter": "python",
   "pygments_lexer": "ipython2",
   "version": "2.7.6"
  }
 },
 "nbformat": 4,
 "nbformat_minor": 2
}
