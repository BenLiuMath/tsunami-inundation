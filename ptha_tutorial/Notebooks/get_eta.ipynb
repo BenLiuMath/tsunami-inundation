{
 "cells": [
  {
   "cell_type": "markdown",
   "metadata": {},
   "source": [
    "## Transform eta maps to javascript usable format\n",
    "This notebook reads in h/eta values from h_eta_small.npy files and aggregates them as javascript variables in a single file."
   ]
  },
  {
   "cell_type": "markdown",
   "metadata": {},
   "source": [
    "### First import some necessary tools\n"
   ]
  },
  {
   "cell_type": "code",
   "execution_count": 1,
   "metadata": {
    "collapsed": false
   },
   "outputs": [
    {
     "name": "stdout",
     "output_type": "stream",
     "text": [
      "Populating the interactive namespace from numpy and matplotlib\n",
      "Assuming that top level of this repository is at: /media/brian/TBdrive/Documents/Coursework/CSE512/Homework/project/tsunami-inundation/ptha_tutorial\n",
      "    Python codes can be found in codes_dir = /media/brian/TBdrive/Documents/Coursework/CSE512/Homework/project/tsunami-inundation/ptha_tutorial/PythonCode\n",
      "    Data files can be found in data_dir = /media/brian/TBdrive/Documents/Coursework/CSE512/Homework/project/tsunami-inundation/ptha_tutorial/DataFiles\n",
      "    Results for each event can be found in events_dir = /media/brian/TBdrive/Documents/Coursework/CSE512/Homework/project/tsunami-inundation/ptha_tutorial/DataFiles/Events\n",
      "Assuming that top level of the CSE512 repository is at: /media/brian/TBdrive/Documents/Coursework/CSE512/Homework/project/tsunami-inundation\n",
      "    JavaScript data files can be found in data_dir = /media/brian/TBdrive/Documents/Coursework/CSE512/Homework/project/tsunami-inundation/docs/data\n"
     ]
    }
   ],
   "source": [
    "%pylab inline\n",
    "from __future__ import print_function\n",
    "from ptha_paths import data_dir, events_dir, js_data_dir\n",
    "import sys, os"
   ]
  },
  {
   "cell_type": "markdown",
   "metadata": {},
   "source": [
    "### Set parameters "
   ]
  },
  {
   "cell_type": "code",
   "execution_count": 4,
   "metadata": {
    "collapsed": false
   },
   "outputs": [],
   "source": [
    "# The events to consider\n",
    "events = ['AASZa', 'AASZb', 'AASZc', 'AASZd', 'CSZa', 'CSZb', 'CSZc', 'CSZd', 'CSZe', \\\n",
    "              'CSZf', 'KmSZa', 'KrSZa', 'SChSZa', 'TOHa']\n",
    "\n",
    "# Resolution of the data\n",
    "nx = 250\n",
    "ny = 250\n",
    "\n",
    "# Name of file where we will output results\n",
    "out_filename = 'eta_arrs.js'\n"
   ]
  },
  {
   "cell_type": "markdown",
   "metadata": {},
   "source": [
    "### Loop over all events and output zeta to a javascript file"
   ]
  },
  {
   "cell_type": "code",
   "execution_count": 12,
   "metadata": {
    "collapsed": false,
    "scrolled": false
   },
   "outputs": [],
   "source": [
    "# Get location of file where we'll output the results\n",
    "out_file = os.path.join(js_data_dir,out_filename)\n",
    "\n",
    "first_event = True\n",
    "for event in events:\n",
    "    \n",
    "    # Load the eta data file\n",
    "    event_dir = os.path.join(events_dir, event)\n",
    "    hmax_file = os.path.join(event_dir, 'h_eta_small.npy')\n",
    "    hmax      = load(hmax_file)\n",
    "    Hmax      = hmax.reshape((nx,ny),order='F')\n",
    "\n",
    "    # Define some strings to help us format the output javascript-friendly way\n",
    "    var_name = \"eta_%s\" %(event)\n",
    "    header   = \"var %s = {\\\"width\\\":%d,\\\"height\\\":%d,\\\"values\\\":[\" %(var_name, nx, ny)\n",
    "    footer   = \"]};\\n\"\n",
    "    \n",
    "    # Write the text to a file\n",
    "    # We want the first event to overwrite the previous file\n",
    "    if first_event:\n",
    "        with open(out_file,'w') as f:\n",
    "            f.write(header)\n",
    "            first_flag = True\n",
    "            for entry in Hmax.ravel():\n",
    "                if first_flag:\n",
    "                    f.write(str(entry))\n",
    "                    first_flag = False\n",
    "                else:\n",
    "                    f.write(',' + str(entry))\n",
    "            f.write(footer)\n",
    "        first_event = False\n",
    "    # Otherwise we just append incoming data as new rows in the same file\n",
    "    else:\n",
    "        with open(out_file,'a') as f:\n",
    "            f.write(header)\n",
    "            first_flag = True\n",
    "            for entry in Hmax.ravel():\n",
    "                if first_flag:\n",
    "                    f.write(str(entry))\n",
    "                    first_flag = False\n",
    "                else:\n",
    "                    f.write(',' + str(entry))\n",
    "            f.write(footer)\n",
    "        "
   ]
  }
 ],
 "metadata": {
  "kernelspec": {
   "display_name": "Python 2",
   "language": "python",
   "name": "python2"
  },
  "language_info": {
   "codemirror_mode": {
    "name": "ipython",
    "version": 2
   },
   "file_extension": ".py",
   "mimetype": "text/x-python",
   "name": "python",
   "nbconvert_exporter": "python",
   "pygments_lexer": "ipython2",
   "version": "2.7.6"
  }
 },
 "nbformat": 4,
 "nbformat_minor": 2
}
