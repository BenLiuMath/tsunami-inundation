{
 "cells": [
  {
   "cell_type": "markdown",
   "metadata": {},
   "source": [
    "## Generate geoJSON files for contours of inundation map"
   ]
  },
  {
   "cell_type": "markdown",
   "metadata": {},
   "source": [
    "## References\n",
    "\n",
    "1. [Extracting contours](https://stackoverflow.com/questions/18304722/python-find-contour-lines-from-matplotlib-pyplot-contour)\n",
    "2. [Python Path objects](https://matplotlib.org/api/path_api.html)\n",
    "3. [Geojson package](https://pypi.org/project/geojson/)\n",
    "4. [Python Path tutorial](https://matplotlib.org/users/path_tutorial.html)\n",
    "5. [Shapely package](https://pypi.org/project/Shapely/)"
   ]
  },
  {
   "cell_type": "markdown",
   "metadata": {},
   "source": [
    "### First import some necessary tools\n",
    "Note: you'll need to install the geojson module to run this notebook. If you have pip you can simply run\n",
    ">pip install geojson"
   ]
  },
  {
   "cell_type": "code",
   "execution_count": 1,
   "metadata": {},
   "outputs": [
    {
     "name": "stdout",
     "output_type": "stream",
     "text": [
      "Populating the interactive namespace from numpy and matplotlib\n"
     ]
    }
   ],
   "source": [
    "%pylab inline"
   ]
  },
  {
   "cell_type": "code",
   "execution_count": 2,
   "metadata": {},
   "outputs": [
    {
     "name": "stdout",
     "output_type": "stream",
     "text": [
      "Assuming that top level of this repository is at: /Users/aengle/Desktop/tsunami-inundation/ptha_tutorial\n",
      "    Python codes can be found in codes_dir = /Users/aengle/Desktop/tsunami-inundation/ptha_tutorial/PythonCode\n",
      "    Data files can be found in data_dir = /Users/aengle/Desktop/tsunami-inundation/ptha_tutorial/DataFiles\n",
      "    Results for each event can be found in events_dir = /Users/aengle/Desktop/tsunami-inundation/ptha_tutorial/DataFiles/Events\n"
     ]
    }
   ],
   "source": [
    "from __future__ import print_function\n",
    "from ptha_paths import data_dir, events_dir\n",
    "import sys, os\n",
    "from matplotlib import _cntr as cntr\n",
    "from geojson import MultiPolygon, Feature, FeatureCollection, dump\n",
    "from skimage import measure\n",
    "import geojson"
   ]
  },
  {
   "cell_type": "markdown",
   "metadata": {},
   "source": [
    "### Set parameters "
   ]
  },
  {
   "cell_type": "code",
   "execution_count": 69,
   "metadata": {},
   "outputs": [],
   "source": [
    "# Parameters\n",
    "events = ['AASZa', 'AASZb', 'AASZc', 'AASZd', 'CSZa', 'CSZb', 'CSZc', 'CSZd', 'CSZe', \\\n",
    "              'CSZf', 'KmSZa', 'KrSZa', 'SChSZa', 'TOHa']     # The events to consider\n",
    "sch = ['SChSZa']\n",
    "num_levels = 5       # The number of levels to partition inundation into\n",
    "zeta_level_values = [1e-2] + list(linspace(0.5,4.5,num_levels-1))"
   ]
  },
  {
   "cell_type": "code",
   "execution_count": 70,
   "metadata": {},
   "outputs": [
    {
     "data": {
      "text/plain": [
       "[0.01, 0.5, 1.8333333333333333, 3.1666666666666665, 4.5]"
      ]
     },
     "execution_count": 70,
     "metadata": {},
     "output_type": "execute_result"
    }
   ],
   "source": [
    "zeta_level_values"
   ]
  },
  {
   "cell_type": "markdown",
   "metadata": {},
   "source": [
    "### Read in the topography data and compute zeta-clines"
   ]
  },
  {
   "cell_type": "code",
   "execution_count": 71,
   "metadata": {},
   "outputs": [],
   "source": [
    "# Read in topography data:\n",
    "nx = 250\n",
    "ny = 250\n",
    "\n",
    "fixed_grid_file = os.path.join(data_dir, 'MapsTopo', 'fixedgrid_xyB_small.npy')\n",
    "d=load(fixed_grid_file)\n",
    "x=d[:,0] - 360   # Longitudes\n",
    "y=d[:,1]         # Latitudes\n",
    "B=d[:,2]         # Bathymetry (topography in the absence of water)\n",
    "topo = reshape(B, (nx,ny), order='F')\n",
    "X = reshape(x, (nx,ny), order='F')  # X[0,0] is min long, X[-1, 0] is max long\n",
    "Y = reshape(y, (nx,ny), order='F')  # Y[0,0] is min lat,  Y[0, -1] is max lat"
   ]
  },
  {
   "cell_type": "code",
   "execution_count": 72,
   "metadata": {
    "scrolled": false
   },
   "outputs": [],
   "source": [
    "# Loop over all events and compute zeta clines for each\n",
    "# Collect zeta clines for each level in multi-polygon environments\n",
    "# for event in events:\n",
    "for event in sch:\n",
    "    event_dir = os.path.join(events_dir, event)\n",
    "    hmax_file = os.path.join(event_dir, 'h_eta_small.npy')\n",
    "    hmax = load(hmax_file)\n",
    "    Hmax = hmax.reshape((nx,ny),order='F')\n",
    "    \n",
    "    features = [None] * num_levels\n",
    "    c = cntr.Cntr(X,Y,Hmax)\n",
    "    path_list = []\n",
    "    for k in xrange(num_levels):\n",
    "        # Go from largest values to smallest to get appropriate overlapping\n",
    "        # contours = c.trace(zeta_level_values[num_levels-k-1])  # this returns paths and categorical variables. Separate..\n",
    "        contours = c.trace(zeta_level_values[num_levels-k-1])  # this returns paths and categorical variables. Separate..\n",
    "        num_paths = len(contours) // 2   # Half of the entries correspond to path connection types\n",
    "        path_list = [poly.tolist() for poly in contours[:num_paths]]  # grab the first half\n",
    "        multi_poly = MultiPolygon([path_list])\n",
    "        features[num_levels-k-1] = Feature(geometry=multi_poly)\n",
    "    # features = Feature(geometry=multi_poly)\n",
    "    feature_collection = FeatureCollection(features)\n",
    "    json_file = os.path.join(event_dir, 'contours.geojson')\n",
    "    \n",
    "    # Write to a file using geojson dump in the events dir (see first cell of this notebook)\n",
    "    #with open(json_file, 'w') as outfile:\n",
    "    #    dump(feature_collection, outfile)\n",
    "    "
   ]
  },
  {
   "cell_type": "markdown",
   "metadata": {},
   "source": [
    "# The next cell is an example of the Shapely package."
   ]
  },
  {
   "cell_type": "code",
   "execution_count": 73,
   "metadata": {
    "scrolled": true
   },
   "outputs": [
    {
     "name": "stdout",
     "output_type": "stream",
     "text": [
      "0 Poly((-124.202, 41.7442) ...)\n",
      "1 Poly((-124.202, 41.7442) ...)\n",
      "2 Poly((-124.202, 41.7398) ...)\n"
     ]
    },
    {
     "ename": "IndexError",
     "evalue": "list index out of range",
     "output_type": "error",
     "traceback": [
      "\u001b[0;31m---------------------------------------------------------------------------\u001b[0m",
      "\u001b[0;31mIndexError\u001b[0m                                Traceback (most recent call last)",
      "\u001b[0;32m<ipython-input-73-f2f5e513a9e6>\u001b[0m in \u001b[0;36m<module>\u001b[0;34m()\u001b[0m\n\u001b[1;32m      1\u001b[0m \u001b[0;32mfrom\u001b[0m \u001b[0mshapely\u001b[0m\u001b[0;34m.\u001b[0m\u001b[0mgeometry\u001b[0m \u001b[0;32mimport\u001b[0m \u001b[0mpolygon\u001b[0m\u001b[0;34m\u001b[0m\u001b[0m\n\u001b[1;32m      2\u001b[0m \u001b[0;32mfor\u001b[0m \u001b[0mi\u001b[0m \u001b[0;32min\u001b[0m \u001b[0mrange\u001b[0m\u001b[0;34m(\u001b[0m\u001b[0mlen\u001b[0m\u001b[0;34m(\u001b[0m\u001b[0mcs\u001b[0m\u001b[0;34m.\u001b[0m\u001b[0mcollections\u001b[0m\u001b[0;34m)\u001b[0m\u001b[0;34m)\u001b[0m\u001b[0;34m:\u001b[0m\u001b[0;34m\u001b[0m\u001b[0m\n\u001b[0;32m----> 3\u001b[0;31m     \u001b[0mp\u001b[0m \u001b[0;34m=\u001b[0m \u001b[0mcs\u001b[0m\u001b[0;34m.\u001b[0m\u001b[0mcollections\u001b[0m\u001b[0;34m[\u001b[0m\u001b[0mi\u001b[0m\u001b[0;34m]\u001b[0m\u001b[0;34m.\u001b[0m\u001b[0mget_paths\u001b[0m\u001b[0;34m(\u001b[0m\u001b[0;34m)\u001b[0m\u001b[0;34m[\u001b[0m\u001b[0;36m0\u001b[0m\u001b[0;34m]\u001b[0m\u001b[0;34m\u001b[0m\u001b[0m\n\u001b[0m\u001b[1;32m      4\u001b[0m     \u001b[0mv\u001b[0m \u001b[0;34m=\u001b[0m \u001b[0mp\u001b[0m\u001b[0;34m.\u001b[0m\u001b[0mvertices\u001b[0m\u001b[0;34m\u001b[0m\u001b[0m\n\u001b[1;32m      5\u001b[0m     \u001b[0mx\u001b[0m \u001b[0;34m=\u001b[0m \u001b[0mv\u001b[0m\u001b[0;34m[\u001b[0m\u001b[0;34m:\u001b[0m\u001b[0;34m,\u001b[0m\u001b[0;36m0\u001b[0m\u001b[0;34m]\u001b[0m\u001b[0;34m\u001b[0m\u001b[0m\n",
      "\u001b[0;31mIndexError\u001b[0m: list index out of range"
     ]
    }
   ],
   "source": [
    "from shapely.geometry import polygon\n",
    "for i in range(len(cs.collections)):\n",
    "    p = cs.collections[i].get_paths()[0]\n",
    "    v = p.vertices\n",
    "    x = v[:,0]\n",
    "    y = v[:,1]\n",
    "    poly = Polygon([(j[0], j[1]) for j in zip(x,y)])\n",
    "    print(i, poly)"
   ]
  },
  {
   "cell_type": "markdown",
   "metadata": {},
   "source": [
    "# This cell will generate the separate contour regions for the number of contour levels specified above. "
   ]
  },
  {
   "cell_type": "code",
   "execution_count": null,
   "metadata": {
    "scrolled": true
   },
   "outputs": [],
   "source": [
    "# Shapely does not play well with the geoJSON package, so I will use some string methods from Python\n",
    "# Based off https://gis.stackexchange.com/questions/99917/converting-matplotlib-contour-objects-to-shapely-objects\n",
    "from shapely import geometry\n",
    "import string\n",
    "table = string.maketrans('()','[]')\n",
    "table2 = string.maketrans('\\'', '\\\"')\n",
    "feature_collection = [None]*num_levels\n",
    "for event in events:\n",
    "    event_dir = os.path.join(events_dir, event)\n",
    "    hmax_file = os.path.join(event_dir, 'h_eta_small.npy')\n",
    "    hmax = load(hmax_file)\n",
    "    Hmax = hmax.reshape((nx,ny),order='F')\n",
    "    cs = plt.contourf(X, Y, Hmax, zeta_level_values)\n",
    "    # First, loop through all zeta-levels\n",
    "    feats = []\n",
    "    for col in cs.collections:        \n",
    "        # feats = []  # feats is the payload to the \"features\" in geoJSON\n",
    "        # Second, loop through all polygons that have the same zeta-level\n",
    "        for contour_path in col.get_paths(): \n",
    "            # Create the polygons for this intensity level\n",
    "            # The first polygon in iteration is the main polygon, the following ones are \"holes\"\n",
    "            # Third, iterate through all sub-polygons that make up the main polygon\n",
    "            for ncp,cp in enumerate(contour_path.to_polygons()):\n",
    "                x = cp[:,0]\n",
    "                y = cp[:,1]\n",
    "                new_shape = geometry.Polygon([(i[0], i[1]) for i in zip(x,y)])\n",
    "                # if ncp == 0:\n",
    "                poly = new_shape  # need to delete the holes in this inner-loop. This can be done by merging the polygons,\n",
    "                # instead of making a new polygon\n",
    "                polyjson = {\"geometry\": geometry.mapping(poly), \"type\": \"Feature\"}  # prep the payload\n",
    "                feats.append(polyjson)\n",
    "    json_file = os.path.join(event_dir, 'contours.geojson')\n",
    "\n",
    "    # Write to a file in the events dir (see first cell of this notebook)\n",
    "    with open(json_file, 'w') as outfile:\n",
    "        outfile.write(str({\"type\": \"FeatureCollection\", \"features\": feats}).translate(table).translate(table2))\n",
    "    # print(str({\"type\": \"FeatureCollection\", \"features\": feats}).translate(table).translate(table2))"
   ]
  },
  {
   "cell_type": "markdown",
   "metadata": {},
   "source": [
    "#### Everything below is experiments with contour plots in matplotlib."
   ]
  },
  {
   "cell_type": "code",
   "execution_count": 42,
   "metadata": {},
   "outputs": [],
   "source": [
    "from matplotlib import contour"
   ]
  },
  {
   "cell_type": "code",
   "execution_count": 31,
   "metadata": {
    "scrolled": true
   },
   "outputs": [
    {
     "data": {
      "text/plain": [
       "<matplotlib.contour.QuadContourSet at 0x114f05550>"
      ]
     },
     "execution_count": 31,
     "metadata": {},
     "output_type": "execute_result"
    },
    {
     "data": {
      "image/png": "[encoded data removed]",
      "text/plain": [
       "<matplotlib.figure.Figure at 0x1143b8190>"
      ]
     },
     "metadata": {},
     "output_type": "display_data"
    }
   ],
   "source": [
    "plt.contourf(X,Y,Hmax, zeta_level_values)"
   ]
  },
  {
   "cell_type": "code",
   "execution_count": 83,
   "metadata": {},
   "outputs": [],
   "source": [
    "## example see this link:\n",
    "# https://stackoverflow.com/questions/18304722/python-find-contour-lines-from-matplotlib-pyplot-contour\n",
    "xx = np.linspace(-1,1,nx)\n",
    "XX = np.repeat(xx, nx).reshape(nx,ny)\n",
    "YY = np.tile(xx, nx).reshape(nx,ny)\n",
    "ZZ = XX**2 + YY**2\n",
    "c = cntr.Cntr(XX, YY, ZZ)\n",
    "contours = c.trace(0.5)  # the ZZ = 0.5 level-curve\n",
    "num_paths = len(contours) // 2  # see this stackexchange link"
   ]
  },
  {
   "cell_type": "code",
   "execution_count": null,
   "metadata": {
    "scrolled": true
   },
   "outputs": [],
   "source": [
    "plt.contourf(XX,YY,ZZ,levels=[0,0.5,1,1.5,1.75])"
   ]
  },
  {
   "cell_type": "code",
   "execution_count": null,
   "metadata": {},
   "outputs": [],
   "source": []
  }
 ],
 "metadata": {
  "kernelspec": {
   "display_name": "Python 2",
   "language": "python",
   "name": "python2"
  },
  "language_info": {
   "codemirror_mode": {
    "name": "ipython",
    "version": 2
   },
   "file_extension": ".py",
   "mimetype": "text/x-python",
   "name": "python",
   "nbconvert_exporter": "python",
   "pygments_lexer": "ipython2",
   "version": "2.7.14"
  }
 },
 "nbformat": 4,
 "nbformat_minor": 2
}
