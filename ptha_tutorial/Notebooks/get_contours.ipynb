{
 "cells": [
  {
   "cell_type": "markdown",
   "metadata": {},
   "source": [
    "## Generate geoJSON files for contours of inundation map"
   ]
  },
  {
   "cell_type": "markdown",
   "metadata": {},
   "source": [
    "### First import some necessary tools\n",
    "Note: you'll need to install the geojson module to run this notebook. If you have pip you can simply run\n",
    ">pip install geojson"
   ]
  },
  {
   "cell_type": "code",
   "execution_count": 1,
   "metadata": {
    "collapsed": false
   },
   "outputs": [
    {
     "name": "stdout",
     "output_type": "stream",
     "text": [
      "Populating the interactive namespace from numpy and matplotlib\n"
     ]
    }
   ],
   "source": [
    "%pylab inline"
   ]
  },
  {
   "cell_type": "code",
   "execution_count": 119,
   "metadata": {
    "collapsed": false
   },
   "outputs": [],
   "source": [
    "from __future__ import print_function\n",
    "from ptha_paths import data_dir, events_dir\n",
    "import sys, os\n",
    "from matplotlib import _cntr as cntr\n",
    "from geojson import MultiPolygon, Feature, FeatureCollection, dump"
   ]
  },
  {
   "cell_type": "markdown",
   "metadata": {},
   "source": [
    "### Set parameters "
   ]
  },
  {
   "cell_type": "code",
   "execution_count": 10,
   "metadata": {
    "collapsed": true
   },
   "outputs": [],
   "source": [
    "# Parameters\n",
    "events = ['CSZa']     # The events to consider\n",
    "num_levels = 5        # The number of levels to partition inundation into"
   ]
  },
  {
   "cell_type": "markdown",
   "metadata": {},
   "source": [
    "### Read in the topography data and compute zeta-clines"
   ]
  },
  {
   "cell_type": "code",
   "execution_count": 18,
   "metadata": {
    "collapsed": true
   },
   "outputs": [],
   "source": [
    "# Read in topography data:\n",
    "nx = 250\n",
    "ny = 250\n",
    "\n",
    "fixed_grid_file = os.path.join(data_dir, 'MapsTopo', 'fixedgrid_xyB_small.npy')\n",
    "d=load(fixed_grid_file)\n",
    "x=d[:,0] - 360   # Longitudes\n",
    "y=d[:,1]         # Latitudes\n",
    "B=d[:,2]         # Bathymetry (topography in the absence of water)\n",
    "topo = reshape(B, (nx,ny), order='F')\n",
    "X = reshape(x, (nx,ny), order='F')\n",
    "Y = reshape(y, (nx,ny), order='F')"
   ]
  },
  {
   "cell_type": "code",
   "execution_count": 125,
   "metadata": {
    "collapsed": false
   },
   "outputs": [],
   "source": [
    "zeta_level_values = [1.e-3] +  list(linspace(0.5,4.5,num_levels-1))\n",
    "# zeta_cline_arrays = empty((nx,ny,num_levels))\n",
    "\n",
    "\n",
    "# Loop over all events and compute zeta clines for each\n",
    "# Collect zeta clines for each level in multi-polygon environments\n",
    "for event in events:\n",
    "    event_dir = os.path.join(events_dir, event)\n",
    "    hmax_file = os.path.join(event_dir, 'h_eta_small.npy')\n",
    "    hmax = load(hmax_file)\n",
    "    Hmax = hmax.reshape((nx,ny),order='F')\n",
    "    features = [None] * num_levels\n",
    "    for k in xrange(num_levels):\n",
    "        # Go from largest values to smallest to get appropriate overlapping\n",
    "        zeta_cline_arr = Hmax > zeta_level_values[num_levels-k-1]\n",
    "        c = cntr.Cntr(X,Y,zeta_cline_arr)\n",
    "        contours = c.trace(0)\n",
    "        num_paths = len(contours) // 2   # Half of the entries correspond to path connection types\n",
    "        path_list = [poly.tolist() for poly in contours[:num_paths]]\n",
    "        multi_poly = MultiPolygon([path_list])\n",
    "        features[num_levels-k-1] = Feature(geometry=multi_poly)\n",
    "        \n",
    "    feature_collection = FeatureCollection(features)\n",
    "    json_file = os.path.join(event_dir, 'contours.geojson')\n",
    "    \n",
    "    # Write to a file\n",
    "    with open(json_file, 'w') as outfile:\n",
    "        dump(feature_collection,outfile)\n",
    "    \n",
    "        \n",
    "        \n",
    "        \n",
    "\n",
    "# Contour solution found here:\n",
    "# https://stackoverflow.com/questions/18304722/python-find-contour-lines-from-matplotlib-pyplot-contour"
   ]
  },
  {
   "cell_type": "code",
   "execution_count": 111,
   "metadata": {
    "collapsed": false
   },
   "outputs": [],
   "source": [
    "# Some old code from debugging\n",
    "\n",
    "# c = cntr.Cntr(X,Y,zeta_cline_arrays[:,:,2])\n",
    "# res = c.trace(0)\n",
    "# num_paths = len(res) // 2\n",
    "# res_list = [poly.tolist() for poly in res[:num_paths]]"
   ]
  }
 ],
 "metadata": {
  "kernelspec": {
   "display_name": "Python 2",
   "language": "python",
   "name": "python2"
  },
  "language_info": {
   "codemirror_mode": {
    "name": "ipython",
    "version": 2
   },
   "file_extension": ".py",
   "mimetype": "text/x-python",
   "name": "python",
   "nbconvert_exporter": "python",
   "pygments_lexer": "ipython2",
   "version": "2.7.6"
  }
 },
 "nbformat": 4,
 "nbformat_minor": 2
}
