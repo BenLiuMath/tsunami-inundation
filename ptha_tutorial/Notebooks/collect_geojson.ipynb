{
 "cells": [
  {
   "cell_type": "code",
   "execution_count": 1,
   "metadata": {
    "collapsed": false
   },
   "outputs": [
    {
     "name": "stdout",
     "output_type": "stream",
     "text": [
      "Populating the interactive namespace from numpy and matplotlib\n"
     ]
    }
   ],
   "source": [
    "%pylab inline"
   ]
  },
  {
   "cell_type": "code",
   "execution_count": 2,
   "metadata": {
    "collapsed": false
   },
   "outputs": [
    {
     "name": "stdout",
     "output_type": "stream",
     "text": [
      "Assuming that top level of this repository is at: C:\\xampp\\htdocs\\tsunami-inundation\\ptha_tutorial\n",
      "    Python codes can be found in codes_dir = C:\\xampp\\htdocs\\tsunami-inundation\\ptha_tutorial\\PythonCode\n",
      "    Data files can be found in data_dir = C:\\xampp\\htdocs\\tsunami-inundation\\ptha_tutorial\\DataFiles\n",
      "    Results for each event can be found in events_dir = C:\\xampp\\htdocs\\tsunami-inundation\\ptha_tutorial\\DataFiles\\Events\n"
     ]
    }
   ],
   "source": [
    "from __future__ import print_function\n",
    "from ptha_paths import data_dir, events_dir\n",
    "import sys, os\n",
    "from matplotlib import _cntr as cntr\n",
    "from geojson import MultiPolygon, Feature, FeatureCollection, dump\n",
    "from skimage import measure\n",
    "import geojson"
   ]
  },
  {
   "cell_type": "code",
   "execution_count": 18,
   "metadata": {
    "collapsed": false
   },
   "outputs": [],
   "source": [
    "from path import path\n",
    "\n",
    "events = ['AASZa', 'AASZb', 'AASZc', 'AASZd', 'CSZa', 'CSZb', 'CSZc', 'CSZd', 'CSZe', \\\n",
    "              'CSZf', 'KmSZa', 'KrSZa', 'SChSZa', 'TOHa']     # The events to consider\n",
    "\n",
    "#events = ['AASZa', 'AASZb']     # The events to consider\n",
    "\n",
    "fname = \"CSZ_geojson.js\"\n",
    "fh = open(fname,\"w\");\n",
    "\n",
    "for event in events:\n",
    "    event_dir = os.path.join(events_dir, event)\n",
    "    json_file = os.path.join(event_dir, 'contours.geojson')\n",
    "    \n",
    "    s = path(json_file).bytes();\n",
    "\n",
    "    firstLine = \"//%s\\n{\\nvar %s = \" % (event,event);\n",
    "    fh.write(firstLine)\n",
    "    fh.write(s);\n",
    "    fh.write(\";\\n}\\n\\n\")\n",
    "    \n",
    "\n",
    "fh.close()"
   ]
  },
  {
   "cell_type": "code",
   "execution_count": null,
   "metadata": {
    "collapsed": true
   },
   "outputs": [],
   "source": []
  }
 ],
 "metadata": {
  "kernelspec": {
   "display_name": "Python 2",
   "language": "python",
   "name": "python2"
  },
  "language_info": {
   "codemirror_mode": {
    "name": "ipython",
    "version": 2
   },
   "file_extension": ".py",
   "mimetype": "text/x-python",
   "name": "python",
   "nbconvert_exporter": "python",
   "pygments_lexer": "ipython2",
   "version": "2.7.15"
  }
 },
 "nbformat": 4,
 "nbformat_minor": 0
}
